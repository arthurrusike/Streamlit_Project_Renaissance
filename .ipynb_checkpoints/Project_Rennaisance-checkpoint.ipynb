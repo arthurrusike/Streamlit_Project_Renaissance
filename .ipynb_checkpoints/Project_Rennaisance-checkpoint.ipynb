{
 "cells": [
  {
   "cell_type": "code",
   "execution_count": 104,
   "id": "da58377b-9f1e-40c7-a9c1-ecbc3a88f9a2",
   "metadata": {},
   "outputs": [],
   "source": [
    "import pandas as pd\n",
    "import numpy as np\n",
    "import openpyxl"
   ]
  },
  {
   "cell_type": "code",
   "execution_count": 106,
   "id": "b814d579-a142-45bb-b880-6fe49240921c",
   "metadata": {},
   "outputs": [],
   "source": [
    "df = pd.read_excel('Customer Profitability Summary 2412.xlsx', sheet_name=\"ChartData\",\n",
    "                                        header=5,\n",
    "                                        usecols=\"B:BE\")\n",
    "\n",
    "df2 = pd.read_excel('Australia Standardisation v2025.xlsx', sheet_name=\"customer_pallets\",\n",
    "                                        header=0,\n",
    "                                        usecols=\"A:CV\")"
   ]
  },
  {
   "cell_type": "code",
   "execution_count": 107,
   "id": "3dea18f4-9da0-4806-b9e8-c243e25a3ce9",
   "metadata": {},
   "outputs": [],
   "source": [
    "profitability_summary_file = df[df.Customer != 0]"
   ]
  },
  {
   "cell_type": "code",
   "execution_count": 108,
   "id": "f42fb572-29d5-401d-b226-bd44146e5b8f",
   "metadata": {},
   "outputs": [
    {
     "ename": "NameError",
     "evalue": "name 'st' is not defined",
     "output_type": "error",
     "traceback": [
      "\u001b[1;31m---------------------------------------------------------------------------\u001b[0m",
      "\u001b[1;31mNameError\u001b[0m                                 Traceback (most recent call last)",
      "Cell \u001b[1;32mIn[108], line 1\u001b[0m\n\u001b[1;32m----> 1\u001b[0m selected_cost_centre \u001b[38;5;241m=\u001b[39m st\u001b[38;5;241m.\u001b[39mselectbox(\u001b[38;5;124m\"\u001b[39m\u001b[38;5;124mCost Centre :\u001b[39m\u001b[38;5;124m\"\u001b[39m, cost_centres, index\u001b[38;5;241m=\u001b[39m\u001b[38;5;241m0\u001b[39m)\n",
      "\u001b[1;31mNameError\u001b[0m: name 'st' is not defined"
     ]
    }
   ],
   "source": [
    " selected_cost_centre = profitability_summary_file[0]"
   ]
  },
  {
   "cell_type": "code",
   "execution_count": 110,
   "id": "8215ffbe-e4cc-4917-8365-657ffe1dceb0",
   "metadata": {},
   "outputs": [
    {
     "ename": "NameError",
     "evalue": "name 'selected_cost_centre' is not defined",
     "output_type": "error",
     "traceback": [
      "\u001b[1;31m---------------------------------------------------------------------------\u001b[0m",
      "\u001b[1;31mNameError\u001b[0m                                 Traceback (most recent call last)",
      "Cell \u001b[1;32mIn[110], line 1\u001b[0m\n\u001b[1;32m----> 1\u001b[0m select_CC_data \u001b[38;5;241m=\u001b[39m profitability_summary_file[profitability_summary_file[\u001b[38;5;124m\"\u001b[39m\u001b[38;5;124mCost Center\u001b[39m\u001b[38;5;124m\"\u001b[39m] \u001b[38;5;241m==\u001b[39m selected_cost_centre]\n",
      "\u001b[1;31mNameError\u001b[0m: name 'selected_cost_centre' is not defined"
     ]
    }
   ],
   "source": [
    "select_CC_data = profitability_summary_file[profitability_summary_file[\"Cost Center\"] == selected_cost_centre]"
   ]
  },
  {
   "cell_type": "code",
   "execution_count": null,
   "id": "347f4741-c534-4ae8-bd12-6bec237bf392",
   "metadata": {},
   "outputs": [],
   "source": [
    "selected_workday_customers = profitability_summary_file[profitability_summary_file[\"Cost Center\"] == selected_cost_centre].Customer.unique()\n"
   ]
  },
  {
   "cell_type": "code",
   "execution_count": 75,
   "id": "c52b91a6-a5b3-407c-a60f-728b07119e6e",
   "metadata": {},
   "outputs": [],
   "source": [
    "select_CC_data"
   ]
  },
  {
   "cell_type": "code",
   "execution_count": null,
   "id": "0ed205ee-36fe-4824-a196-8636110f1d13",
   "metadata": {},
   "outputs": [],
   "source": []
  },
  {
   "cell_type": "code",
   "execution_count": null,
   "id": "d983505e-d641-4849-9247-292be254f124",
   "metadata": {},
   "outputs": [],
   "source": []
  },
  {
   "cell_type": "code",
   "execution_count": null,
   "id": "6d6e8343-ab9d-4d3d-b3fa-c86fb005f02d",
   "metadata": {},
   "outputs": [],
   "source": []
  }
 ],
 "metadata": {
  "kernelspec": {
   "display_name": "Python [conda env:base] *",
   "language": "python",
   "name": "conda-base-py"
  },
  "language_info": {
   "codemirror_mode": {
    "name": "ipython",
    "version": 3
   },
   "file_extension": ".py",
   "mimetype": "text/x-python",
   "name": "python",
   "nbconvert_exporter": "python",
   "pygments_lexer": "ipython3",
   "version": "3.12.7"
  }
 },
 "nbformat": 4,
 "nbformat_minor": 5
}
